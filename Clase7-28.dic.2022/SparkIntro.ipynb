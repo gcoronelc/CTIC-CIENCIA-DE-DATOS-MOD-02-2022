{
  "nbformat": 4,
  "nbformat_minor": 0,
  "metadata": {
    "colab": {
      "provenance": []
    },
    "kernelspec": {
      "name": "python3",
      "display_name": "Python 3"
    },
    "language_info": {
      "name": "python"
    }
  },
  "cells": [
    {
      "cell_type": "code",
      "execution_count": 1,
      "metadata": {
        "colab": {
          "base_uri": "https://localhost:8080/"
        },
        "id": "0_mVs7XYXTix",
        "outputId": "598df5c4-801d-44d3-8577-a612f65ffa1a"
      },
      "outputs": [
        {
          "output_type": "stream",
          "name": "stdout",
          "text": [
            "Looking in indexes: https://pypi.org/simple, https://us-python.pkg.dev/colab-wheels/public/simple/\n",
            "Collecting pyspark\n",
            "  Downloading pyspark-3.3.1.tar.gz (281.4 MB)\n",
            "\u001b[K     |████████████████████████████████| 281.4 MB 44 kB/s \n",
            "\u001b[?25hCollecting py4j==0.10.9.5\n",
            "  Downloading py4j-0.10.9.5-py2.py3-none-any.whl (199 kB)\n",
            "\u001b[K     |████████████████████████████████| 199 kB 53.6 MB/s \n",
            "\u001b[?25hBuilding wheels for collected packages: pyspark\n",
            "  Building wheel for pyspark (setup.py) ... \u001b[?25l\u001b[?25hdone\n",
            "  Created wheel for pyspark: filename=pyspark-3.3.1-py2.py3-none-any.whl size=281845512 sha256=a2258025be1a50b3c727bcbbc0b6e345f4a2f56584cd4ed99e68e36318f61adb\n",
            "  Stored in directory: /root/.cache/pip/wheels/43/dc/11/ec201cd671da62fa9c5cc77078235e40722170ceba231d7598\n",
            "Successfully built pyspark\n",
            "Installing collected packages: py4j, pyspark\n",
            "Successfully installed py4j-0.10.9.5 pyspark-3.3.1\n"
          ]
        }
      ],
      "source": [
        "!pip install pyspark"
      ]
    },
    {
      "cell_type": "code",
      "source": [
        "!pyspark --version"
      ],
      "metadata": {
        "colab": {
          "base_uri": "https://localhost:8080/"
        },
        "id": "WIoagZ3yXxwO",
        "outputId": "0e776698-fb0c-431c-a642-b01437ee5a3b"
      },
      "execution_count": 2,
      "outputs": [
        {
          "output_type": "stream",
          "name": "stdout",
          "text": [
            "Welcome to\n",
            "      ____              __\n",
            "     / __/__  ___ _____/ /__\n",
            "    _\\ \\/ _ \\/ _ `/ __/  '_/\n",
            "   /___/ .__/\\_,_/_/ /_/\\_\\   version 3.3.1\n",
            "      /_/\n",
            "                        \n",
            "Using Scala version 2.12.15, OpenJDK 64-Bit Server VM, 11.0.17\n",
            "Branch HEAD\n",
            "Compiled by user yumwang on 2022-10-15T09:47:01Z\n",
            "Revision fbbcf9434ac070dd4ced4fb9efe32899c6db12a9\n",
            "Url https://github.com/apache/spark\n",
            "Type --help for more information.\n"
          ]
        }
      ]
    },
    {
      "cell_type": "code",
      "source": [
        "from pyspark.sql import SparkSession"
      ],
      "metadata": {
        "id": "BcAwKIEWX6JE"
      },
      "execution_count": 3,
      "outputs": []
    },
    {
      "cell_type": "code",
      "source": [
        "spark = SparkSession.builder.appName(\"CienciaDatos2\").master(\"local[*]\").getOrCreate()"
      ],
      "metadata": {
        "id": "9dxQor2RZRs6"
      },
      "execution_count": 4,
      "outputs": []
    },
    {
      "cell_type": "code",
      "source": [
        "#csv_path = '/content/sample_data/california_housing_train.csv'"
      ],
      "metadata": {
        "id": "nnVH8xLIYQPo"
      },
      "execution_count": null,
      "outputs": []
    },
    {
      "cell_type": "code",
      "source": [
        "#df = (spark.read.option('header', True)\n",
        "#    .option('inferSchema', True)\n",
        "#    .csv(csv_path)\n",
        "#)"
      ],
      "metadata": {
        "id": "x0XEW65eYbb0"
      },
      "execution_count": null,
      "outputs": []
    },
    {
      "cell_type": "code",
      "source": [
        "#df.show(10, False)"
      ],
      "metadata": {
        "colab": {
          "base_uri": "https://localhost:8080/"
        },
        "id": "zbWvH_peZy-B",
        "outputId": "b88392b1-99c5-45c2-a828-e3b4552cef31"
      },
      "execution_count": null,
      "outputs": [
        {
          "output_type": "stream",
          "name": "stdout",
          "text": [
            "+---------+--------+------------------+-----------+--------------+----------+----------+-------------+------------------+\n",
            "|longitude|latitude|housing_median_age|total_rooms|total_bedrooms|population|households|median_income|median_house_value|\n",
            "+---------+--------+------------------+-----------+--------------+----------+----------+-------------+------------------+\n",
            "|-114.31  |34.19   |15.0              |5612.0     |1283.0        |1015.0    |472.0     |1.4936       |66900.0           |\n",
            "|-114.47  |34.4    |19.0              |7650.0     |1901.0        |1129.0    |463.0     |1.82         |80100.0           |\n",
            "|-114.56  |33.69   |17.0              |720.0      |174.0         |333.0     |117.0     |1.6509       |85700.0           |\n",
            "|-114.57  |33.64   |14.0              |1501.0     |337.0         |515.0     |226.0     |3.1917       |73400.0           |\n",
            "|-114.57  |33.57   |20.0              |1454.0     |326.0         |624.0     |262.0     |1.925        |65500.0           |\n",
            "|-114.58  |33.63   |29.0              |1387.0     |236.0         |671.0     |239.0     |3.3438       |74000.0           |\n",
            "|-114.58  |33.61   |25.0              |2907.0     |680.0         |1841.0    |633.0     |2.6768       |82400.0           |\n",
            "|-114.59  |34.83   |41.0              |812.0      |168.0         |375.0     |158.0     |1.7083       |48500.0           |\n",
            "|-114.59  |33.61   |34.0              |4789.0     |1175.0        |3134.0    |1056.0    |2.1782       |58400.0           |\n",
            "|-114.6   |34.83   |46.0              |1497.0     |309.0         |787.0     |271.0     |2.1908       |48100.0           |\n",
            "+---------+--------+------------------+-----------+--------------+----------+----------+-------------+------------------+\n",
            "only showing top 10 rows\n",
            "\n"
          ]
        }
      ]
    },
    {
      "cell_type": "code",
      "source": [
        "spark = SparkSession.builder.appName(\"Ciencia Datos Pyspark Tutorial\").config(\"spark.memory.offHeap.enabled\",\"true\").config(\"spark.memory.offHeap.size\",\"10g\").getOrCreate()"
      ],
      "metadata": {
        "id": "W2uIXCUAjtYw"
      },
      "execution_count": 5,
      "outputs": []
    },
    {
      "cell_type": "code",
      "source": [
        "df = spark.read.csv('/content/drive/MyDrive/data/ecommerce.csv',header=True,escape=\"\\\"\")"
      ],
      "metadata": {
        "id": "wynD10xZjzw4"
      },
      "execution_count": 7,
      "outputs": []
    },
    {
      "cell_type": "markdown",
      "source": [
        "InvoiceNo: The unique identifier of each customer invoice.\n",
        "\n",
        "StockCode: The unique identifier of each item in stock.\n",
        "\n",
        "Description: The item purchased by the customer.\n",
        "\n",
        "Quantity: The number of each item purchased by a customer in a single invoice.\n",
        "\n",
        "InvoiceDate: The purchase date.\n",
        "\n",
        "UnitPrice: Price of one unit of each item.\n",
        "\n",
        "CustomerID: Unique identifier assigned to each user.\n",
        "\n",
        "Country: The country from where the purchase was made.\n"
      ],
      "metadata": {
        "id": "w15-WtZFmMdB"
      }
    },
    {
      "cell_type": "code",
      "source": [
        "df.show(5,0)"
      ],
      "metadata": {
        "colab": {
          "base_uri": "https://localhost:8080/"
        },
        "id": "2_rbkVAlmEWd",
        "outputId": "c496a650-5e33-4ad7-dbca-3eb53afc07fc"
      },
      "execution_count": 8,
      "outputs": [
        {
          "output_type": "stream",
          "name": "stdout",
          "text": [
            "+---------+---------+-----------------------------------+--------+-------------+---------+----------+--------------+\n",
            "|InvoiceNo|StockCode|Description                        |Quantity|InvoiceDate  |UnitPrice|CustomerID|Country       |\n",
            "+---------+---------+-----------------------------------+--------+-------------+---------+----------+--------------+\n",
            "|536365   |85123A   |WHITE HANGING HEART T-LIGHT HOLDER |6       |1/12/10 08:26|2.55     |17850     |United Kingdom|\n",
            "|536365   |71053    |WHITE METAL LANTERN                |6       |1/12/10 08:26|3.39     |17850     |United Kingdom|\n",
            "|536365   |84406B   |CREAM CUPID HEARTS COAT HANGER     |8       |1/12/10 08:26|2.75     |17850     |United Kingdom|\n",
            "|536365   |84029G   |KNITTED UNION FLAG HOT WATER BOTTLE|6       |1/12/10 08:26|3.39     |17850     |United Kingdom|\n",
            "|536365   |84029E   |RED WOOLLY HOTTIE WHITE HEART.     |6       |1/12/10 08:26|3.39     |17850     |United Kingdom|\n",
            "+---------+---------+-----------------------------------+--------+-------------+---------+----------+--------------+\n",
            "only showing top 5 rows\n",
            "\n"
          ]
        }
      ]
    },
    {
      "cell_type": "code",
      "source": [
        "df.count() "
      ],
      "metadata": {
        "colab": {
          "base_uri": "https://localhost:8080/"
        },
        "id": "qEIpFOnxmV03",
        "outputId": "d9e8e363-3a96-4cb1-b6cc-68a32693b976"
      },
      "execution_count": 9,
      "outputs": [
        {
          "output_type": "execute_result",
          "data": {
            "text/plain": [
              "541909"
            ]
          },
          "metadata": {},
          "execution_count": 9
        }
      ]
    },
    {
      "cell_type": "code",
      "source": [
        "df.select('CustomerID').distinct().count()"
      ],
      "metadata": {
        "colab": {
          "base_uri": "https://localhost:8080/"
        },
        "id": "g1FqJ9JymcTQ",
        "outputId": "6a620c51-f863-4f23-80a0-0c133a79afe8"
      },
      "execution_count": 10,
      "outputs": [
        {
          "output_type": "execute_result",
          "data": {
            "text/plain": [
              "4373"
            ]
          },
          "metadata": {},
          "execution_count": 10
        }
      ]
    },
    {
      "cell_type": "code",
      "source": [
        "from pyspark.sql.functions import *\n",
        "from pyspark.sql.types import *"
      ],
      "metadata": {
        "id": "koIYoNYGmiB9"
      },
      "execution_count": 11,
      "outputs": []
    },
    {
      "cell_type": "code",
      "source": [
        "df.groupBy('Country').agg(countDistinct('CustomerID').alias('country_count')).show()"
      ],
      "metadata": {
        "colab": {
          "base_uri": "https://localhost:8080/"
        },
        "id": "Bhe5MYNOmmYX",
        "outputId": "e4b7ebd5-5b22-4eb9-9921-ad73d41902c3"
      },
      "execution_count": 12,
      "outputs": [
        {
          "output_type": "stream",
          "name": "stdout",
          "text": [
            "+------------------+-------------+\n",
            "|           Country|country_count|\n",
            "+------------------+-------------+\n",
            "|            Sweden|            8|\n",
            "|         Singapore|            1|\n",
            "|           Germany|           95|\n",
            "|               RSA|            1|\n",
            "|            France|           87|\n",
            "|            Greece|            4|\n",
            "|European Community|            1|\n",
            "|           Belgium|           25|\n",
            "|           Finland|           12|\n",
            "|             Malta|            2|\n",
            "|       Unspecified|            4|\n",
            "|             Italy|           15|\n",
            "|              EIRE|            3|\n",
            "|         Lithuania|            1|\n",
            "|            Norway|           10|\n",
            "|             Spain|           31|\n",
            "|           Denmark|            9|\n",
            "|         Hong Kong|            0|\n",
            "|            Israel|            4|\n",
            "|           Iceland|            1|\n",
            "+------------------+-------------+\n",
            "only showing top 20 rows\n",
            "\n"
          ]
        }
      ]
    },
    {
      "cell_type": "code",
      "source": [
        "df.groupBy('Country').agg(countDistinct('CustomerID').alias('country_count')).orderBy(desc('country_count')).show()"
      ],
      "metadata": {
        "colab": {
          "base_uri": "https://localhost:8080/"
        },
        "id": "adu4Gi-UmyjC",
        "outputId": "1d2e1cf8-6397-4ca2-eb9e-d00f21974a6a"
      },
      "execution_count": 13,
      "outputs": [
        {
          "output_type": "stream",
          "name": "stdout",
          "text": [
            "+---------------+-------------+\n",
            "|        Country|country_count|\n",
            "+---------------+-------------+\n",
            "| United Kingdom|         3950|\n",
            "|        Germany|           95|\n",
            "|         France|           87|\n",
            "|          Spain|           31|\n",
            "|        Belgium|           25|\n",
            "|    Switzerland|           21|\n",
            "|       Portugal|           19|\n",
            "|          Italy|           15|\n",
            "|        Finland|           12|\n",
            "|        Austria|           11|\n",
            "|         Norway|           10|\n",
            "|Channel Islands|            9|\n",
            "|      Australia|            9|\n",
            "|    Netherlands|            9|\n",
            "|        Denmark|            9|\n",
            "|         Cyprus|            8|\n",
            "|          Japan|            8|\n",
            "|         Sweden|            8|\n",
            "|         Poland|            6|\n",
            "|         Greece|            4|\n",
            "+---------------+-------------+\n",
            "only showing top 20 rows\n",
            "\n"
          ]
        }
      ]
    },
    {
      "cell_type": "code",
      "source": [
        "spark.sql(\"set spark.sql.legacy.timeParserPolicy=LEGACY\")\n",
        "df = df.withColumn('date',to_timestamp(\"InvoiceDate\", 'yy/MM/dd HH:mm'))\n",
        "df.select(max(\"date\")).show()"
      ],
      "metadata": {
        "colab": {
          "base_uri": "https://localhost:8080/"
        },
        "id": "6OZMyCJGnBGe",
        "outputId": "d344f8f1-4613-4939-b658-1f0ef974e429"
      },
      "execution_count": 14,
      "outputs": [
        {
          "output_type": "stream",
          "name": "stdout",
          "text": [
            "+-------------------+\n",
            "|          max(date)|\n",
            "+-------------------+\n",
            "|2031-10-11 17:19:00|\n",
            "+-------------------+\n",
            "\n"
          ]
        }
      ]
    },
    {
      "cell_type": "code",
      "source": [
        "df.select(min(\"date\")).show()"
      ],
      "metadata": {
        "colab": {
          "base_uri": "https://localhost:8080/"
        },
        "id": "aT5jE1OXnE-4",
        "outputId": "20269d54-2999-458e-8acd-3b1de024fb78"
      },
      "execution_count": 15,
      "outputs": [
        {
          "output_type": "stream",
          "name": "stdout",
          "text": [
            "+-------------------+\n",
            "|          min(date)|\n",
            "+-------------------+\n",
            "|0001-02-11 08:23:00|\n",
            "+-------------------+\n",
            "\n"
          ]
        }
      ]
    },
    {
      "cell_type": "code",
      "source": [
        "df.show(5,0)"
      ],
      "metadata": {
        "colab": {
          "base_uri": "https://localhost:8080/"
        },
        "id": "7Eyyo1wQnIl_",
        "outputId": "97997408-c1a4-4be8-aac0-db183da28e61"
      },
      "execution_count": 16,
      "outputs": [
        {
          "output_type": "stream",
          "name": "stdout",
          "text": [
            "+---------+---------+-----------------------------------+--------+-------------+---------+----------+--------------+-------------------+\n",
            "|InvoiceNo|StockCode|Description                        |Quantity|InvoiceDate  |UnitPrice|CustomerID|Country       |date               |\n",
            "+---------+---------+-----------------------------------+--------+-------------+---------+----------+--------------+-------------------+\n",
            "|536365   |85123A   |WHITE HANGING HEART T-LIGHT HOLDER |6       |1/12/10 08:26|2.55     |17850     |United Kingdom|0001-12-10 08:26:00|\n",
            "|536365   |71053    |WHITE METAL LANTERN                |6       |1/12/10 08:26|3.39     |17850     |United Kingdom|0001-12-10 08:26:00|\n",
            "|536365   |84406B   |CREAM CUPID HEARTS COAT HANGER     |8       |1/12/10 08:26|2.75     |17850     |United Kingdom|0001-12-10 08:26:00|\n",
            "|536365   |84029G   |KNITTED UNION FLAG HOT WATER BOTTLE|6       |1/12/10 08:26|3.39     |17850     |United Kingdom|0001-12-10 08:26:00|\n",
            "|536365   |84029E   |RED WOOLLY HOTTIE WHITE HEART.     |6       |1/12/10 08:26|3.39     |17850     |United Kingdom|0001-12-10 08:26:00|\n",
            "+---------+---------+-----------------------------------+--------+-------------+---------+----------+--------------+-------------------+\n",
            "only showing top 5 rows\n",
            "\n"
          ]
        }
      ]
    },
    {
      "cell_type": "markdown",
      "source": [
        "RFM se usa comúnmente en marketing para evaluar el valor de un cliente en función de su:\n",
        "\n",
        "Recency: ¿Qué tan recientemente ha realizado una compra cada cliente?\n",
        "\n",
        "Frecuencia: ¿Con qué frecuencia han comprado algo?\n",
        "\n",
        "Valor Monetario: ¿Cuánto dinero gastan en promedio al realizar compras?\n"
      ],
      "metadata": {
        "id": "_JZ5u0omnbgK"
      }
    },
    {
      "cell_type": "markdown",
      "source": [
        "**Recency**"
      ],
      "metadata": {
        "id": "1KSiiSelsfx1"
      }
    },
    {
      "cell_type": "code",
      "source": [
        "df = df.withColumn(\"from_date\", lit(\"12/1/10 08:26\"))\n",
        "df = df.withColumn('from_date',to_timestamp(\"from_date\", 'yy/MM/dd HH:mm'))\n",
        "\n",
        "df2=df.withColumn('from_date',to_timestamp(col('from_date'))).withColumn('recency',col(\"date\").cast(\"long\") - col('from_date').cast(\"long\"))"
      ],
      "metadata": {
        "id": "7P9kQYdwnfWT"
      },
      "execution_count": 17,
      "outputs": []
    },
    {
      "cell_type": "code",
      "source": [
        "df2 = df2.join(df2.groupBy('CustomerID').agg(max('recency').alias('recency')),on='recency',how='leftsemi')"
      ],
      "metadata": {
        "id": "imw6zB-esnEE"
      },
      "execution_count": 18,
      "outputs": []
    },
    {
      "cell_type": "code",
      "source": [
        "df2.show(5,0)"
      ],
      "metadata": {
        "colab": {
          "base_uri": "https://localhost:8080/"
        },
        "id": "PUXfeYKvsyQS",
        "outputId": "b6a011af-aec5-4ec7-87e1-41ac5f277c3f"
      },
      "execution_count": 19,
      "outputs": [
        {
          "output_type": "stream",
          "name": "stdout",
          "text": [
            "+------------+---------+---------+-----------------------------------+--------+-------------+---------+----------+--------------+-------------------+-------------------+\n",
            "|recency     |InvoiceNo|StockCode|Description                        |Quantity|InvoiceDate  |UnitPrice|CustomerID|Country       |date               |from_date          |\n",
            "+------------+---------+---------+-----------------------------------+--------+-------------+---------+----------+--------------+-------------------+-------------------+\n",
            "|-63432109980|536384   |82484    |WOOD BLACK BOARD ANT WHITE FINISH  |3       |1/12/10 09:53|6.45     |18074     |United Kingdom|0001-12-10 09:53:00|2012-01-10 08:26:00|\n",
            "|-63432109980|536384   |84755    |COLOUR GLASS T-LIGHT HOLDER HANGING|48      |1/12/10 09:53|0.65     |18074     |United Kingdom|0001-12-10 09:53:00|2012-01-10 08:26:00|\n",
            "|-63432109980|536384   |22464    |HANGING METAL HEART LANTERN        |12      |1/12/10 09:53|1.65     |18074     |United Kingdom|0001-12-10 09:53:00|2012-01-10 08:26:00|\n",
            "|-63432109980|536384   |21324    |HANGING MEDINA LANTERN SMALL       |6       |1/12/10 09:53|2.95     |18074     |United Kingdom|0001-12-10 09:53:00|2012-01-10 08:26:00|\n",
            "|-63432109980|536384   |22457    |NATURAL SLATE HEART CHALKBOARD     |12      |1/12/10 09:53|2.95     |18074     |United Kingdom|0001-12-10 09:53:00|2012-01-10 08:26:00|\n",
            "+------------+---------+---------+-----------------------------------+--------+-------------+---------+----------+--------------+-------------------+-------------------+\n",
            "only showing top 5 rows\n",
            "\n"
          ]
        }
      ]
    },
    {
      "cell_type": "code",
      "source": [
        "df2.printSchema()"
      ],
      "metadata": {
        "colab": {
          "base_uri": "https://localhost:8080/"
        },
        "id": "-TqxE1DCs3dn",
        "outputId": "dea036aa-c36a-462d-b6dc-628d18602ffe"
      },
      "execution_count": 20,
      "outputs": [
        {
          "output_type": "stream",
          "name": "stdout",
          "text": [
            "root\n",
            " |-- recency: long (nullable = true)\n",
            " |-- InvoiceNo: string (nullable = true)\n",
            " |-- StockCode: string (nullable = true)\n",
            " |-- Description: string (nullable = true)\n",
            " |-- Quantity: string (nullable = true)\n",
            " |-- InvoiceDate: string (nullable = true)\n",
            " |-- UnitPrice: string (nullable = true)\n",
            " |-- CustomerID: string (nullable = true)\n",
            " |-- Country: string (nullable = true)\n",
            " |-- date: timestamp (nullable = true)\n",
            " |-- from_date: timestamp (nullable = true)\n",
            "\n"
          ]
        }
      ]
    },
    {
      "cell_type": "markdown",
      "source": [
        "**Frequency**"
      ],
      "metadata": {
        "id": "MFA7iAWNs86u"
      }
    },
    {
      "cell_type": "code",
      "source": [
        "df_freq = df2.groupBy('CustomerID').agg(count('InvoiceDate').alias('frequency'))"
      ],
      "metadata": {
        "id": "tKM-2Ffus7q1"
      },
      "execution_count": 21,
      "outputs": []
    },
    {
      "cell_type": "code",
      "source": [
        "df_freq.show(5,0)"
      ],
      "metadata": {
        "colab": {
          "base_uri": "https://localhost:8080/"
        },
        "id": "-6ZKq-CLtIKP",
        "outputId": "a5c3803f-cf45-4c72-dea6-fb76e479391e"
      },
      "execution_count": 22,
      "outputs": [
        {
          "output_type": "stream",
          "name": "stdout",
          "text": [
            "+----------+---------+\n",
            "|CustomerID|frequency|\n",
            "+----------+---------+\n",
            "|15574     |1        |\n",
            "|17714     |10       |\n",
            "|14157     |1        |\n",
            "|16250     |10       |\n",
            "|13772     |36       |\n",
            "+----------+---------+\n",
            "only showing top 5 rows\n",
            "\n"
          ]
        }
      ]
    },
    {
      "cell_type": "code",
      "source": [
        "df3 = df2.join(df_freq,on='CustomerID',how='inner')"
      ],
      "metadata": {
        "id": "ISTKrr6otLLT"
      },
      "execution_count": 23,
      "outputs": []
    },
    {
      "cell_type": "code",
      "source": [
        "df3.printSchema()"
      ],
      "metadata": {
        "colab": {
          "base_uri": "https://localhost:8080/"
        },
        "id": "lJ-ouKHXtQDc",
        "outputId": "761cfa90-e765-42fd-94ed-64acaf227b06"
      },
      "execution_count": 24,
      "outputs": [
        {
          "output_type": "stream",
          "name": "stdout",
          "text": [
            "root\n",
            " |-- CustomerID: string (nullable = true)\n",
            " |-- recency: long (nullable = true)\n",
            " |-- InvoiceNo: string (nullable = true)\n",
            " |-- StockCode: string (nullable = true)\n",
            " |-- Description: string (nullable = true)\n",
            " |-- Quantity: string (nullable = true)\n",
            " |-- InvoiceDate: string (nullable = true)\n",
            " |-- UnitPrice: string (nullable = true)\n",
            " |-- Country: string (nullable = true)\n",
            " |-- date: timestamp (nullable = true)\n",
            " |-- from_date: timestamp (nullable = true)\n",
            " |-- frequency: long (nullable = false)\n",
            "\n"
          ]
        }
      ]
    },
    {
      "cell_type": "markdown",
      "source": [
        "**Valor Monetario**"
      ],
      "metadata": {
        "id": "4bYlhp_PtWyz"
      }
    },
    {
      "cell_type": "code",
      "source": [
        "m_val = df3.withColumn('TotalAmount',col(\"Quantity\") * col(\"UnitPrice\"))"
      ],
      "metadata": {
        "id": "Tci-pkpytbeq"
      },
      "execution_count": 25,
      "outputs": []
    },
    {
      "cell_type": "code",
      "source": [
        "m_val = m_val.groupBy('CustomerID').agg(sum('TotalAmount').alias('monetary_value'))"
      ],
      "metadata": {
        "id": "d1h8VnNitkt4"
      },
      "execution_count": 26,
      "outputs": []
    },
    {
      "cell_type": "code",
      "source": [
        "finaldf = m_val.join(df3,on='CustomerID',how='inner')"
      ],
      "metadata": {
        "id": "_Fuf-0tUtoKY"
      },
      "execution_count": 27,
      "outputs": []
    },
    {
      "cell_type": "code",
      "source": [
        "finaldf = finaldf.select(['recency','frequency','monetary_value','CustomerID']).distinct()"
      ],
      "metadata": {
        "id": "2Etdd-HBtqb2"
      },
      "execution_count": 28,
      "outputs": []
    },
    {
      "cell_type": "markdown",
      "source": [
        "**Estandardizacion**"
      ],
      "metadata": {
        "id": "-ZY6nSKvtxag"
      }
    },
    {
      "cell_type": "code",
      "source": [
        "from pyspark.ml.feature import VectorAssembler\n",
        "from pyspark.ml.feature import StandardScaler\n",
        "\n",
        "assemble=VectorAssembler(inputCols=[\n",
        "    'recency','frequency','monetary_value'\n",
        "], outputCol='features')\n",
        "\n",
        "assembled_data=assemble.transform(finaldf)\n",
        "\n",
        "scale=StandardScaler(inputCol='features',outputCol='standardized')\n",
        "data_scale=scale.fit(assembled_data)\n",
        "data_scale_output=data_scale.transform(assembled_data)"
      ],
      "metadata": {
        "id": "rLQamNXdt3tD"
      },
      "execution_count": 29,
      "outputs": []
    },
    {
      "cell_type": "code",
      "source": [
        "data_scale_output.select('standardized').show(2,truncate=False)"
      ],
      "metadata": {
        "colab": {
          "base_uri": "https://localhost:8080/"
        },
        "id": "0O_yFfkQt_PZ",
        "outputId": "3787e84d-123f-4e1d-df5a-5011d8620253"
      },
      "execution_count": 30,
      "outputs": [
        {
          "output_type": "stream",
          "name": "stdout",
          "text": [
            "+----------------------------------------------------------------+\n",
            "|standardized                                                    |\n",
            "+----------------------------------------------------------------+\n",
            "|[0.007053018889234201,0.029659745732762945,0.002761038125761422]|\n",
            "|[0.01578164180007535,0.29659745732762943,0.11265035553106603]   |\n",
            "+----------------------------------------------------------------+\n",
            "only showing top 2 rows\n",
            "\n"
          ]
        }
      ]
    },
    {
      "cell_type": "markdown",
      "source": [
        "**Machine Learning**"
      ],
      "metadata": {
        "id": "-Yegsc2Dt0T0"
      }
    },
    {
      "cell_type": "code",
      "source": [
        "from pyspark.ml.clustering import KMeans\n",
        "from pyspark.ml.evaluation import ClusteringEvaluator\n",
        "import numpy as np\n",
        "\n",
        "cost = np.zeros(10)\n",
        "\n",
        "evaluator = ClusteringEvaluator(predictionCol='prediction', featuresCol='standardized',metricName='silhouette', distanceMeasure='squaredEuclidean')\n",
        "\n",
        "for i in range(2,10):\n",
        "    KMeans_algo=KMeans(featuresCol='standardized', k=i)\n",
        "    KMeans_fit=KMeans_algo.fit(data_scale_output)\n",
        "    output=KMeans_fit.transform(data_scale_output)\n",
        "    cost[i] = KMeans_fit.summary.trainingCost"
      ],
      "metadata": {
        "id": "bmoXnhiZuK8v"
      },
      "execution_count": 31,
      "outputs": []
    },
    {
      "cell_type": "code",
      "source": [
        "import pandas as pd\n",
        "import pylab as pl\n",
        "df_cost = pd.DataFrame(cost[2:])\n",
        "df_cost.columns = [\"cost\"]\n",
        "new_col = range(2,10)\n",
        "df_cost.insert(0, 'cluster', new_col)\n",
        "pl.plot(df_cost.cluster, df_cost.cost)\n",
        "pl.xlabel('Number of Clusters')\n",
        "pl.ylabel('Score')\n",
        "pl.title('Elbow Curve')\n",
        "pl.show()"
      ],
      "metadata": {
        "id": "ieLYrScauOi3"
      },
      "execution_count": null,
      "outputs": []
    },
    {
      "cell_type": "code",
      "source": [
        "KMeans_algo=KMeans(featuresCol='standardized', k=4)\n",
        "KMeans_fit=KMeans_algo.fit(data_scale_output)"
      ],
      "metadata": {
        "id": "Qv1xzIhbuRSO"
      },
      "execution_count": null,
      "outputs": []
    },
    {
      "cell_type": "code",
      "source": [
        "preds=KMeans_fit.transform(data_scale_output)\n",
        "\n",
        "preds.show(5,0)"
      ],
      "metadata": {
        "id": "MfARUE7guV0l"
      },
      "execution_count": null,
      "outputs": []
    },
    {
      "cell_type": "code",
      "source": [
        "import matplotlib.pyplot as plt\n",
        "import seaborn as sns\n",
        "\n",
        "df_viz = preds.select('recency','frequency','monetary_value','prediction')\n",
        "df_viz = df_viz.toPandas()\n",
        "avg_df = df_viz.groupby(['prediction'], as_index=False).mean()\n",
        "\n",
        "list1 = ['recency','frequency','monetary_value']\n",
        "\n",
        "for i in list1:\n",
        "    sns.barplot(x='prediction',y=str(i),data=avg_df)\n",
        "    plt.show()"
      ],
      "metadata": {
        "id": "6HXKOTpzuZzv"
      },
      "execution_count": null,
      "outputs": []
    },
    {
      "cell_type": "markdown",
      "source": [
        "Aquí hay una descripción general de las características mostradas por los clientes en cada grupo:\n",
        "\n",
        "Grupo 0: los clientes de este segmento muestran poca actualidad, frecuencia y valor monetario. Rara vez compran en la plataforma y son clientes de bajo potencial que probablemente dejarán de hacer negocios con la empresa de comercio electrónico.\n",
        "\n",
        "Grupo 1: los usuarios de este grupo muestran una alta antigüedad, pero no se les ha visto gastar mucho en la plataforma. Tampoco visitan el sitio con frecuencia. Esto indica que podrían ser clientes más nuevos que acaban de comenzar a hacer negocios con la empresa.\n",
        "\n",
        "Grupo 2: los clientes de este segmento muestran una frecuencia y actualidad medias y gastan mucho dinero en la plataforma. Esto indica que tienden a comprar artículos de alto valor o hacer compras al por mayor.\n",
        "\n",
        "Grupo 3: el segmento final comprende a los usuarios que muestran una alta actualidad y realizan compras frecuentes en la plataforma. Sin embargo, no gastan mucho en la plataforma, lo que podría significar que tienden a seleccionar artículos más baratos en cada compra."
      ],
      "metadata": {
        "id": "xtOmiEwQuj-o"
      }
    }
  ]
}